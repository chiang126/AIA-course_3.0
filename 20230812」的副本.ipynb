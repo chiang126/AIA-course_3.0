{
  "nbformat": 4,
  "nbformat_minor": 0,
  "metadata": {
    "colab": {
      "provenance": [],
      "authorship_tag": "ABX9TyO8zC7jQ9I3GsgqShPFKosQ",
      "include_colab_link": true
    },
    "kernelspec": {
      "name": "python3",
      "display_name": "Python 3"
    },
    "language_info": {
      "name": "python"
    }
  },
  "cells": [
    {
      "cell_type": "markdown",
      "metadata": {
        "id": "view-in-github",
        "colab_type": "text"
      },
      "source": [
        "<a href=\"https://colab.research.google.com/github/chiang126/AIA-course_3.0/blob/main/20230812%E3%80%8D%E7%9A%84%E5%89%AF%E6%9C%AC.ipynb\" target=\"_parent\"><img src=\"https://colab.research.google.com/assets/colab-badge.svg\" alt=\"Open In Colab\"/></a>"
      ]
    },
    {
      "cell_type": "code",
      "execution_count": null,
      "metadata": {
        "id": "ml7cuH90Aeur",
        "colab": {
          "base_uri": "https://localhost:8080/"
        },
        "outputId": "a118df22-434f-4202-f013-8123a8e17833"
      },
      "outputs": [
        {
          "output_type": "stream",
          "name": "stdout",
          "text": [
            "T: <class 'bool'> data type, value = True\n",
            "I: <class 'int'> data type, value = 123\n",
            "F1: <class 'float'> data type, value = 278.0\n",
            "F2: <class 'float'> data type,value = 369.0\n",
            "C: <class 'complex'> data type,value = (2.5+3j)\n",
            "S: <class 'str'> data type, value =01258965874258\n"
          ]
        }
      ],
      "source": [
        "# Data type   變數型別\n",
        "\n",
        "#  數值變數\n",
        "\n",
        "T = True\n",
        "F = False\n",
        "I = 123\n",
        "F1 = 278.0\n",
        "F2 = float(369)\n",
        "C = 2.5+3.0j\n",
        "\n",
        "\n",
        "# 字串變數\n",
        "\n",
        "S = '01258965874258'\n",
        "\n",
        "print(f'T: {type(T)} data type, value = {T}')\n",
        "print(f'I: {type(I)} data type, value = {I}')\n",
        "print(f'F1: {type(F1)} data type, value = {F1}')\n",
        "print(f'F2: {type(F2)} data type,value = {F2}')\n",
        "print(f'C: {type(C)} data type,value = {C}')\n",
        "print(f'S: {type (S)} data type, value ={S}')\n",
        "\n",
        "#  查看變數型態\n"
      ]
    },
    {
      "cell_type": "code",
      "source": [
        "# 型別轉換\n",
        "\n",
        "S = \"3265852856147\"\n",
        "Int_S = int(S)\n",
        "Float_S = float(S)\n",
        "Complx_S = complex(S)\n",
        "\n",
        "print(f'Int_S: {type(Int_S)} data type,value = {Int_S}')\n",
        "print(f'Float_S:{type(Float_S)} data type,value = {Float_S}')\n",
        "print(f'Complx_S:{type(Complx_S)} data type,value = {Complx_S}')\n",
        "\n"
      ],
      "metadata": {
        "id": "P6QA_iT6AfSa",
        "colab": {
          "base_uri": "https://localhost:8080/"
        },
        "outputId": "30c4a1dc-89a1-46b0-b987-0e290e40ea27"
      },
      "execution_count": null,
      "outputs": [
        {
          "output_type": "stream",
          "name": "stdout",
          "text": [
            "Int_S: <class 'int'> data type,value = 3265852856147\n",
            "Float_S:<class 'float'> data type,value = 3265852856147.0\n",
            "Complx_S:<class 'complex'> data type,value = (3265852856147+0j)\n"
          ]
        }
      ]
    },
    {
      "cell_type": "code",
      "source": [
        " # slicing  取值\n",
        "\n",
        "print(S[3:])\n",
        "print(S[2::3])\n",
        "print(S[-1:6:-2])\n"
      ],
      "metadata": {
        "id": "nNFgT-gsAfYv",
        "colab": {
          "base_uri": "https://localhost:8080/"
        },
        "outputId": "7162a6f8-826f-4119-bcd1-355ac4b86a82"
      },
      "execution_count": null,
      "outputs": [
        {
          "output_type": "stream",
          "name": "stdout",
          "text": [
            "5852856147\n",
            "6554\n",
            "715\n"
          ]
        }
      ]
    },
    {
      "cell_type": "code",
      "source": [
        "#  變數的 Format Code\n",
        "\n",
        "# 整數 %d\n",
        "# 浮點數 %f\n",
        "# 字串 %s\n",
        "\n",
        "\n",
        "# 變數運算\n",
        "\n",
        "\n",
        "a, b = 10, 3\n",
        "\n",
        "print(f'{a}  +  {b} = {a + b}')        # 10 + 3\n",
        "print(f'{a}  -  {b} = {a - b}')         #  10 - 3\n",
        "print(f'{a}  *  {b} = {a * b}')        #  10 * 3\n",
        "print(f'{a}  /  {b} = {a / b}')         # 10 / 3     一般除法，就算是兩個整數相除，也會將結果自動轉為浮點數\n",
        "print(f'{a} //  {b} = {a // b}')        # 10 // 3   取整數     Floor division，只留下商\n",
        "print(f'{a} **  {b} = {a ** b}')     #  10**3     10 的 3 次方\n",
        "print(f'{a} % {b} = {a % b}')       # 10 % 3     取餘數      10 除以 3 的餘數\n"
      ],
      "metadata": {
        "id": "tztJoIBPAfcE",
        "colab": {
          "base_uri": "https://localhost:8080/"
        },
        "outputId": "f5809d64-5155-4c04-9e60-084059c09e20"
      },
      "execution_count": null,
      "outputs": [
        {
          "output_type": "stream",
          "name": "stdout",
          "text": [
            "10  +  3 = 13\n",
            "10  -  3 = 7\n",
            "10  *  3 = 30\n",
            "10  /  3 = 3.3333333333333335\n",
            "10 //  3 = 3\n",
            "10 **  3 = 1000\n",
            "10 % 3 = 1\n"
          ]
        }
      ]
    },
    {
      "cell_type": "code",
      "source": [],
      "metadata": {
        "id": "5FiNSgT5JtXx"
      },
      "execution_count": null,
      "outputs": []
    },
    {
      "cell_type": "code",
      "source": [
        "# Container 資料容器\n",
        "\n",
        "# List [ ]\n",
        "# Tuple ( )\n",
        "# Set ( 空的) 或 {有值}\n",
        "# Dictionary\n"
      ],
      "metadata": {
        "id": "kg5K_-zQJta9"
      },
      "execution_count": null,
      "outputs": []
    },
    {
      "cell_type": "code",
      "source": [
        "from ast import Lambda\n",
        "\n",
        "# List   有順序性   一般宣告建議使用中括號 [ ]\n",
        "\n",
        "# 宣告\n",
        "#emptyList 1 = []\n",
        "#emptyList 2 = list()\n",
        "\n",
        "# list 中可放入不同變數，或放入另一個list\n",
        "\n",
        "L = [3,4,5,9,10,7,5,6,4]\n",
        "print(L)\n",
        "\n",
        "L.append(8)   # 在 list 最後面新增一筆資料，使用 append()\n",
        "print(L)\n",
        "\n",
        "L.remove(4)  # 使用 remove() 移除目前 list 中希望移除的值，注意如果希望移除的值出現了很多次， remove 只會移除前面數來第一個。\n",
        "print(L)\n",
        "\n",
        "L.pop(5)   # 使用 pop() 移除目前 list 中某個 index 的資料。\n",
        "print(L)\n",
        "\n",
        "print(len(L))   # 使用 len() 查詢目前 list總長度\n"
      ],
      "metadata": {
        "colab": {
          "base_uri": "https://localhost:8080/"
        },
        "id": "CAyk81kaMKi5",
        "outputId": "d40e3d5e-dad9-4424-8b27-65fb3a4d231f"
      },
      "execution_count": null,
      "outputs": [
        {
          "output_type": "stream",
          "name": "stdout",
          "text": [
            "[3, 4, 5, 9, 10, 7, 5, 6, 4]\n",
            "[3, 4, 5, 9, 10, 7, 5, 6, 4, 8]\n",
            "[3, 5, 9, 10, 7, 5, 6, 4, 8]\n",
            "[3, 5, 9, 10, 7, 6, 4, 8]\n",
            "8\n"
          ]
        }
      ]
    },
    {
      "cell_type": "code",
      "source": [
        "# 插入資料\n",
        "\n",
        "L.insert(4, 5)    # 使用 insert(index, value) 在 index 處插入一筆資料，下例為在 index 為 3的地方插入一個 5\n",
        "print(L)\n",
        "\n",
        "# 使用 slicing 將 list 拆成兩半，則可以在中間插入多筆資料，下例為把 list 分成前四筆 含剩下的，並在中間插入 9 7 8 9。\n",
        "L = L[:3] + [9, 7, 8, 9] + L[4:]\n",
        "print(L)\n"
      ],
      "metadata": {
        "colab": {
          "base_uri": "https://localhost:8080/"
        },
        "id": "pyecFyFmMKl2",
        "outputId": "00901c6a-ddae-4a19-c6df-f39dddc26f0b"
      },
      "execution_count": null,
      "outputs": [
        {
          "output_type": "stream",
          "name": "stdout",
          "text": [
            "[3, 5, 9, 10, 5, 7, 6, 4, 8]\n",
            "[3, 5, 9, 9, 7, 8, 9, 5, 7, 6, 4, 8]\n"
          ]
        }
      ]
    },
    {
      "cell_type": "code",
      "source": [
        "# 使用 split() 將字串自動切成 list。\n",
        "\n",
        "SS =  input().split()\n",
        "\n",
        "print(SS)\n"
      ],
      "metadata": {
        "colab": {
          "base_uri": "https://localhost:8080/"
        },
        "id": "LpMHYVLQMKo8",
        "outputId": "c91033a1-77dd-4fa3-f422-37954a6fa918"
      },
      "execution_count": null,
      "outputs": [
        {
          "output_type": "stream",
          "name": "stdout",
          "text": [
            "325 489 51 361 1472 2\n",
            "['325', '489', '51', '361', '1472', '2']\n"
          ]
        }
      ]
    },
    {
      "cell_type": "code",
      "source": [
        "# join() 則是和 split() 相反的功能，以某個結合符號(字串)將 list 內的東西接起來。\n",
        "\n",
        "L = ['Alpha', 'Beta', 'Gamma', 'Theta']\n",
        "print(\", \".join(L))"
      ],
      "metadata": {
        "colab": {
          "base_uri": "https://localhost:8080/"
        },
        "id": "VvhkWr7WMKrz",
        "outputId": "b7a55081-9814-428b-f648-41dcd85403d6"
      },
      "execution_count": null,
      "outputs": [
        {
          "output_type": "stream",
          "name": "stdout",
          "text": [
            "Alpha, Beta, Gamma, Theta\n"
          ]
        }
      ]
    },
    {
      "cell_type": "code",
      "source": [
        "# 降冪 、 升冪\n",
        "\n",
        "# 使用 sort()將 list 排序，預設是升序，如果要降序的話，需要加上 reverse = True\n",
        "\n",
        "NN = [39, 2 , 58, 9, 4, 69,  ]\n",
        "\n",
        "NN.sort()\n",
        "print(NN)\n",
        "\n",
        "NN.sort(reverse=True)\n",
        "print(NN)\n"
      ],
      "metadata": {
        "colab": {
          "base_uri": "https://localhost:8080/"
        },
        "id": "QbNprty4MKur",
        "outputId": "8678c119-8318-4327-991d-feec9f840e98"
      },
      "execution_count": null,
      "outputs": [
        {
          "output_type": "stream",
          "name": "stdout",
          "text": [
            "[2, 4, 9, 39, 58, 69]\n",
            "[69, 58, 39, 9, 4, 2]\n"
          ]
        }
      ]
    },
    {
      "cell_type": "code",
      "source": [
        "# Tuple    和 list 很像\n",
        "# 資料不可變動\n",
        "\n"
      ],
      "metadata": {
        "id": "gflC0i0vMKxl"
      },
      "execution_count": null,
      "outputs": []
    },
    {
      "cell_type": "code",
      "source": [
        "# Set   没有順序性\n",
        "\n",
        "# 宣告\n",
        "# S1 = set( 空的 )\n",
        "# S2 = { 有值 }\n",
        "\n",
        "S1 ={2,8,9,4,12,6,20}\n",
        "S2 = {3,6,9,10,15,6,6}\n",
        "\n",
        "print(S1 & S2)      # 兩集合的交集使用 & 符號\n",
        "print(S1 | S2)     # 兩集合的聯集使用 | 符號\n",
        "print(S1 - S2)    # 兩集合的差集使用 - 符號\n",
        "print(S2 - S1)     # 兩集合的差集使用 - 符\n",
        "print(S1 ^ S2)    # 兩集合的互斥集使用 ^ 符號\n",
        "print(S1 <= S2)    # 使用 >, <, =, >=, <=, == 判斷集合間的子集關係\n",
        "print(S1 >= S2)    # 使用 >, <, =, >=, <=, == 判斷集合間的子集關係\n",
        "print(S1 == S2)    # 使用 >, <, =, >=, <=, == 判斷集合間的子集關係\n"
      ],
      "metadata": {
        "colab": {
          "base_uri": "https://localhost:8080/"
        },
        "id": "edReFNeCMK0V",
        "outputId": "fb2868f4-6e55-4167-f6c6-7fb0d1fdc7dc"
      },
      "execution_count": null,
      "outputs": [
        {
          "output_type": "stream",
          "name": "stdout",
          "text": [
            "{9, 6}\n",
            "{2, 3, 4, 6, 8, 9, 10, 12, 15, 20}\n",
            "{2, 4, 8, 12, 20}\n",
            "{10, 3, 15}\n",
            "{2, 3, 4, 8, 10, 12, 15, 20}\n",
            "False\n",
            "False\n",
            "False\n"
          ]
        }
      ]
    },
    {
      "cell_type": "code",
      "source": [
        "S3 = {99, 22, 47, 8}\n",
        "\n",
        "S3.add(36)    # 在集合中增加一物件\n",
        "print(S3)\n",
        "\n",
        "S3.update((6, 22, 8))      # 若要將集合與其他集合做合併，可使用 update()，兩集合重複的物件將不會重複合併。\n",
        "print(S3)"
      ],
      "metadata": {
        "colab": {
          "base_uri": "https://localhost:8080/"
        },
        "id": "pbfnMS0oMK3L",
        "outputId": "bbf9cddf-2b5c-471e-8e3b-dee9bf747950"
      },
      "execution_count": null,
      "outputs": [
        {
          "output_type": "stream",
          "name": "stdout",
          "text": [
            "{99, 36, 8, 47, 22}\n",
            "{99, 36, 6, 8, 47, 22}\n"
          ]
        }
      ]
    },
    {
      "cell_type": "code",
      "source": [
        " # Dictionary\n",
        "\n",
        "# 宣告\n",
        "# D1 = dict ( )\n",
        "# D2 = { 空的 }   與  S2 = { 有值 } 易搞混，如果只宣告一個大括號的話，出來的型別會是字典！\n",
        "\n",
        "# 宣告有資料的dictionay時，由於和set一樣都是使用{ }，所以在資料部分的格式必須由所區隔。\n",
        "# 每一筆都需要有兩個任意型別的物件 (key, value)，例如 'a' 和 1，並且以冒號隔開，這樣的意思是在這個字典中，\n",
        "# D = {'a': 1, 'b': 2, 3: 'c'}\n",
        "# 呼叫 key('a') 會得到 value (1)。"
      ],
      "metadata": {
        "id": "0HrcHPkfMK6O"
      },
      "execution_count": null,
      "outputs": []
    },
    {
      "cell_type": "code",
      "source": [
        "# 將 list 轉換成字典，注意 list 中每筆資料都要是一個 \"內含兩個資料的 list\"\n",
        "# 轉換後 每兩筆中的第一筆將會是 key，另一筆是 value。\n",
        "\n",
        "L = [[9, 'a'], [6, '7'], [3, 'c'], [2, 'd']]\n",
        "\n",
        "D = dict(L)\n",
        "print(D)\n",
        "\n",
        "D['g'] = 88      # 在字典中新增一組資料 (key, value)，用宣告方式。\n",
        "print(D)\n",
        "\n",
        "D.update({'m': 55, 'p': 60, 'u': 7})    # 使用 update()，在字典中添加另一字典的資料\n",
        "print(D)\n"
      ],
      "metadata": {
        "colab": {
          "base_uri": "https://localhost:8080/"
        },
        "id": "VT-FUnXTJteJ",
        "outputId": "ddca9cb9-aa8c-4cd7-f86d-533f0ee7a185"
      },
      "execution_count": null,
      "outputs": [
        {
          "output_type": "stream",
          "name": "stdout",
          "text": [
            "{9: 'a', 6: '7', 3: 'c', 2: 'd'}\n",
            "{9: 'a', 6: '7', 3: 'c', 2: 'd', 'g': 88}\n",
            "{9: 'a', 6: '7', 3: 'c', 2: 'd', 'g': 88, 'm': 55, 'p': 60, 'u': 7}\n"
          ]
        }
      ]
    },
    {
      "cell_type": "code",
      "source": [
        "D1 =  {9: 'a', 6: '7', 3: 'c', 2: 'd', 'g': 88, 'm': 55, 'p': 60, 'u': 7}\n",
        "\n",
        "del (D1['g'])    # 使用 del(key) 刪除字典內指定的 (key, value)資料\n",
        "print(D1)\n",
        "\n",
        "print(D1.pop('m'))   # 使用D.pop(key) 刪除字典內指定的 (key, value)資料, 同時取一次value\n",
        "print(D1)\n",
        "\n",
        "# 使用 clear() 清空字典內的所有資料\n",
        "D1.clear()\n",
        "print(D1)"
      ],
      "metadata": {
        "colab": {
          "base_uri": "https://localhost:8080/"
        },
        "id": "Y3qPJzxqJthF",
        "outputId": "fa84f5ed-cd03-46e7-860d-8f0dd2cbbb8b"
      },
      "execution_count": null,
      "outputs": [
        {
          "output_type": "stream",
          "name": "stdout",
          "text": [
            "{9: 'a', 6: '7', 3: 'c', 2: 'd', 'm': 55, 'p': 60, 'u': 7}\n",
            "55\n",
            "{9: 'a', 6: '7', 3: 'c', 2: 'd', 'p': 60, 'u': 7}\n",
            "{}\n"
          ]
        }
      ]
    },
    {
      "cell_type": "code",
      "source": [
        "# 複製的注意事項\n",
        "#請注意, 如果想複製一份container到另一個名稱上, 必須用.copy(), 否則兩個名稱會對應到同一個container資料\n",
        "\n",
        "# 若只用 copy()，則為複製一份一樣的 list。\n",
        "copyList = originalList.copy()\n",
        "\n",
        "# 對 originalList 修改資料\n",
        "originalList[0] = \"Hello!\"\n",
        "\n",
        "# assignedList 也一起被修改\n",
        "print(assignedList[0])\n",
        "\n",
        "# copyList 因為是複製過來的，所以改動原串列對它是不會造成影響的。\n",
        "print(copyList[0])"
      ],
      "metadata": {
        "id": "vHDmpwHNJtkU"
      },
      "execution_count": null,
      "outputs": []
    },
    {
      "cell_type": "code",
      "source": [],
      "metadata": {
        "id": "07_R7coKAfe0"
      },
      "execution_count": null,
      "outputs": []
    },
    {
      "cell_type": "code",
      "source": [],
      "metadata": {
        "id": "RIGGx6Etar6F"
      },
      "execution_count": null,
      "outputs": []
    },
    {
      "cell_type": "code",
      "source": [],
      "metadata": {
        "id": "eYR9Pjmaar-A"
      },
      "execution_count": null,
      "outputs": []
    },
    {
      "cell_type": "code",
      "source": [],
      "metadata": {
        "id": "OMGRmTqbasBF"
      },
      "execution_count": null,
      "outputs": []
    },
    {
      "cell_type": "code",
      "source": [],
      "metadata": {
        "id": "aV1OBazJasEH"
      },
      "execution_count": null,
      "outputs": []
    },
    {
      "cell_type": "code",
      "source": [],
      "metadata": {
        "id": "LQN0kcxIasG-"
      },
      "execution_count": null,
      "outputs": []
    },
    {
      "cell_type": "code",
      "source": [],
      "metadata": {
        "id": "HdHkatIFasJ_"
      },
      "execution_count": null,
      "outputs": []
    },
    {
      "cell_type": "code",
      "source": [],
      "metadata": {
        "id": "PVOAJzHkasNH"
      },
      "execution_count": null,
      "outputs": []
    },
    {
      "cell_type": "code",
      "source": [],
      "metadata": {
        "id": "FC3iftn6asQM"
      },
      "execution_count": null,
      "outputs": []
    },
    {
      "cell_type": "code",
      "source": [],
      "metadata": {
        "id": "8YG2wU3WasTP"
      },
      "execution_count": null,
      "outputs": []
    },
    {
      "cell_type": "code",
      "source": [],
      "metadata": {
        "id": "yZdPnS79Afhm"
      },
      "execution_count": null,
      "outputs": []
    },
    {
      "cell_type": "code",
      "source": [],
      "metadata": {
        "id": "NsyzbAfzAfkY"
      },
      "execution_count": null,
      "outputs": []
    },
    {
      "cell_type": "code",
      "source": [],
      "metadata": {
        "id": "GoigWnWSAfng"
      },
      "execution_count": null,
      "outputs": []
    }
  ]
}